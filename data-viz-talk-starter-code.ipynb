{
 "cells": [
  {
   "cell_type": "markdown",
   "metadata": {},
   "source": [
    "# Data Visualization: From Square One to Interactivity "
   ]
  },
  {
   "cell_type": "code",
   "execution_count": null,
   "metadata": {},
   "outputs": [],
   "source": [
    "!pip install matplotlib seaborn numpy pandas bokeh pyviz --upgrade"
   ]
  },
  {
   "cell_type": "markdown",
   "metadata": {},
   "source": [
    "### Matt Brems\n",
    "- Global Lead Data Science Instructor with [General Assembly](https://generalassemb.ly/education/data-science-immersive).\n",
    "- Managing Partner with [ROC AUC, LLC](https://rocauc.com/).\n",
    "- Project & Client Management Chair with [Statistics Without Borders](https://community.amstat.org/statisticswithoutborders/home).\n",
    "\n",
    "- Previously:\n",
    "    - Data Science with [0ptimus Consulting](https://0ptimus.com).\n",
    "    - Enterprise Analytics with [Smucker's](https://www.smuckers.com).\n",
    "    - M.S. in Statistics from [Ohio State](https://stat.osu.edu/).\n",
    "    - B.A. from [Franklin College](https://franklincollege.edu/).\n",
    "- [LinkedIn](https://www.linkedin.com/in/matthewbrems/)\n",
    "- [Twitter](https://twitter.com/matthewbrems/)\n",
    "- [GitHub](https://github.com/matthewbrems/)"
   ]
  },
  {
   "cell_type": "markdown",
   "metadata": {},
   "source": [
    "<details><summary>Let's get started with a question: what is the point of creating a visualization for data?</summary>\n",
    "    \n",
    "- \"Use a picture. It's worth a thousand words.\" - Tess Flanders, 1911\n",
    "- We generally use visualizations in order to efficiently and/or effectively communicate information.\n",
    "\n",
    "</details>\n",
    "\n",
    "---\n",
    "\n",
    "<details><summary>We often generate data visualizations for exploratory analysis or explanatory analysis. What is the difference?</summary>\n",
    "\n",
    "- Exploratory analysis is when we are exploring our data, like identifying patterns or discovering outliers.\n",
    "- Explanatory analysis is when we are communicating (explaining) our results to a client, boss, stakeholder, etc.\n",
    "\n",
    "</details>\n",
    "\n",
    "Today, we will focus on **explanatory analysis**. Many of these tools will be transferable to exploratory analysis.\n",
    "\n",
    "## Agenda\n",
    "1. Square One: Picking a good visualization.\n",
    "2. Intermediate: Improving the basic visualizations.\n",
    "3. Interactivity: Adding interactivity to visualizations.\n",
    "\n",
    "Along the way, we'll be implementing each step together and cover best practices!"
   ]
  },
  {
   "cell_type": "markdown",
   "metadata": {
    "collapsed": true
   },
   "source": [
    "### Packages Today\n",
    "- [NumPy](http://www.numpy.org/): Numerical Python - scalars, vectors, matrices, etc. and tools for manipulating them.\n",
    "- [Pandas](https://pandas.pydata.org/): Python Data Analysis Library - storing/\"munging\" (cleaning/transforming) data.\n",
    "- [Matplotlib](https://matplotlib.org/): Python plotting library - this is (unsurprisingly) what we'll use to plot things!\n",
    "- [Bokeh](https://bokeh.pydata.org/en/latest/): Interactive Visualization Library - this is (also unsurprisingly) what we'll use to generate interactive visualizations!\n",
    "- [Seaborn](https://seaborn.pydata.org/): Statistical Visualization Library - this is commonly used for more complicated visuals (we'll ignore most of these because they're less accessible to stakeholders)."
   ]
  },
  {
   "cell_type": "code",
   "execution_count": null,
   "metadata": {},
   "outputs": [],
   "source": [
    "# Importing NumPy and Pandas.\n",
    "import numpy as np\n",
    "import pandas as pd\n",
    "\n",
    "# Importing matplotlib.pyplot - the specific plotting API \n",
    "# https://matplotlib.org/api/pyplot_api.html\n",
    "import matplotlib.pyplot as plt\n",
    "\n",
    "# Importing specific Bokeh \n",
    "from bokeh.layouts import gridplot\n",
    "from bokeh.plotting import figure, show\n",
    "from bokeh.io import output_notebook\n",
    "\n",
    "# This magic line will allow you to generate plots\n",
    "# within the Jupyter note book.\n",
    "%matplotlib inline"
   ]
  },
  {
   "cell_type": "code",
   "execution_count": null,
   "metadata": {},
   "outputs": [],
   "source": [
    "# Read in stock data, then convert date to datetime format.\n",
    "\n",
    "stocks = pd.read_csv('./data/stocks_data.csv')\n",
    "stocks['date'] = pd.to_datetime(stocks['date'])"
   ]
  },
  {
   "cell_type": "code",
   "execution_count": null,
   "metadata": {},
   "outputs": [],
   "source": [
    "# Check out the first five rows of the stocks data.\n",
    "\n",
    "stocks.head()"
   ]
  },
  {
   "cell_type": "code",
   "execution_count": null,
   "metadata": {},
   "outputs": [],
   "source": [
    "stocks['weekday'].value_counts()"
   ]
  },
  {
   "cell_type": "code",
   "execution_count": null,
   "metadata": {},
   "outputs": [],
   "source": [
    "stocks['ticker'].value_counts()"
   ]
  },
  {
   "cell_type": "markdown",
   "metadata": {
    "collapsed": true
   },
   "source": [
    "# Square One: Picking a good visualization.\n",
    "\n",
    "There are many ways to visualize the same data. [This FlowingData post](https://flowingdata.com/2017/01/24/one-dataset-visualized-25-ways/) by Nathan Lau shows the same data visualized 25 different ways. Three of the 25 examples are shown below.\n",
    "\n",
    "![](./images/country-v-average.png)\n",
    "\n",
    "![](./images/country-over-time.png)\n",
    "\n",
    "![](./images/country-by-time.png)\n",
    "\n",
    "- If we Google \"data visualization tools,\" we will quickly get overwhelmed with all of the data visualization libraries that are out there. (Tableau, R/Python, Images in Google Sheets, D3.js, Microsoft Paint...)\n",
    "- If we Google \"good data visualizations,\" we'll see lots of amazing images/videos/dashboards/apps with really high production values, but we recognize that we won't be able to easily replicate these.\n",
    "- If we head to [viz.wtf](http://viz.wtf), we can see lots of images that show us what **not** to do... but not what **to** do!"
   ]
  },
  {
   "cell_type": "markdown",
   "metadata": {},
   "source": [
    "### If-This-Then-That Rules\n",
    "\n",
    "I'm not a visual designer. I don't have a natural eye for things that may work well together. Instead, I like things that are rule-oriented. I want to attempt to break \"picking a good visualization\" down into a set of \"if-this-then-that\" rules. \n",
    "- This won't be a perfect, \"one-size-fits-all\" set of rules. \n",
    "- There will be situations in which you want to \"break\" these rules. If you have the time, the energy, and/or the creativity... then break them!\n",
    "- Hopefully this is a \"one-size-fits-most\" set of rules.\n",
    "\n",
    "### Qualitative vs. Quantitative Variables\n",
    "- Quantitative variables (commonly called numerical variables) are variables that are measured on a numeric scale.\n",
    "    - Examples: stock price at closing bell, volume of stocks traded.\n",
    "- Qualitative variables (commonly called categorical variables) are variables that are not measured on a numeric scale.\n",
    "    - Examples: Days of the week, stock ticker."
   ]
  },
  {
   "cell_type": "markdown",
   "metadata": {},
   "source": [
    "### If you are reporting one or two numbers, then:\n",
    "- simply state the numbers, or\n",
    "- compare numbers using a bar chart."
   ]
  },
  {
   "cell_type": "markdown",
   "metadata": {},
   "source": [
    "**Example 1**: Suppose we wanted to quantify the performance of the AAPL stock over time."
   ]
  },
  {
   "cell_type": "code",
   "execution_count": null,
   "metadata": {},
   "outputs": [],
   "source": [
    "# AAPL Stock Price on January 2, 1998. \n",
    "print(stocks[(stocks['date'] == min(stocks['date'])) & (stocks['ticker'] == 'AAPL')]['close'])\n",
    "\n",
    "# AAPL Stock Price on August 9, 2013.\n",
    "print(stocks[(stocks['date'] == max(stocks['date'])) & (stocks['ticker'] == 'AAPL')]['close'])"
   ]
  },
  {
   "cell_type": "code",
   "execution_count": null,
   "metadata": {},
   "outputs": [],
   "source": [
    "# Percent change formula: 100 * (value_2 - value_1) / |value_1|\n",
    "\n",
    "pct_change = 100 * (454.37 - 3.95) / 3.95"
   ]
  },
  {
   "cell_type": "code",
   "execution_count": null,
   "metadata": {},
   "outputs": [],
   "source": [
    "# Set size of figure: eight horizontal inches by five vertical inches.\n",
    "plt.figure(figsize=(8, 5))\n",
    "\n",
    "# Create text:\n",
    "plt.text(x = 0.5,                              # at horizontal = 0.5\n",
    "         y = 0.9,                              # at vertical = 0.9\n",
    "         s = 'Apple\\'s stock price increased', # content of text (string)\n",
    "         ha = 'center',                        # center-aligned horizontally\n",
    "         va = 'center',                        # center-aligned vertically\n",
    "         size = 35,                            # font size = 35\n",
    "         alpha = 0.6)                          # alpha = 0.6 --> 60% opaque; 40% clear\n",
    "\n",
    "\n",
    "# Create text:\n",
    "# at (horizontal = 0.5, vertical = 0.55)\n",
    "# stating the percent change (s means string)\n",
    "# center-aligned\n",
    "# font size 125\n",
    "# alpha = 1 --> totally opaque\n",
    "\n",
    "plt.text(x = 0.5,\n",
    "         y = 0.55,\n",
    "         s = str(round(pct_change)) + '%',\n",
    "         ha = 'center',\n",
    "         va = 'center',\n",
    "         size = 125,\n",
    "         alpha = 1)\n",
    "\n",
    "# Create text:\n",
    "# at (horizontal = 0.5, vertical = 0.25)\n",
    "# stating \"between January 1998 and August 2013\"\n",
    "# with a line break in between \"1998\" and \"and\"\n",
    "# center-aligned\n",
    "# font size 35\n",
    "# alpha = 0.6 --> 40% clear; 60% opaque\n",
    "plt.text(x = 0.5,\n",
    "         y = 0.2,\n",
    "         s = 'between January 1998\\nand August 2013.',\n",
    "         ha = 'center',\n",
    "         va = 'center',\n",
    "         size = 35,\n",
    "         alpha = 0.6)\n",
    "\n",
    "# No axes.\n",
    "plt.axis('off')\n",
    "\n",
    "plt.savefig('apple_stock_growth.png')\n",
    "\n",
    "# Show plot!\n",
    "plt.show()"
   ]
  },
  {
   "cell_type": "markdown",
   "metadata": {},
   "source": [
    "It is often a bad idea to simply report one number. By giving only one number, we can often be misleading. Let's avoid this!\n",
    "- I got a 74% on my last exam.\n",
    "    - I got a 74% on my last exam. The class average was a 56%.\n",
    "- There were 62,984,828 votes cast for Trump in the 2016 Presidential election.\n",
    "    - There were 65,853,514 votes cast for Clinton and 62,984,828 votes cast for Trump in the 2016 Presidential election.\n",
    "- Our company earned 5MM (five million) dollars last year.\n",
    "    - Our company earned 5MM last year. This is our highest yet; our company had an average of 2MM in revenue over all previous years.\n",
    "\n",
    "\n",
    "- ***My \"best practice\" recommendation***: Rather than reporting one number, provide context by comparing multiple numbers.\n",
    "\n",
    "---\n",
    "\n",
    "**Example 2**: Suppose we wanted to compare AAPL performance to Dow growth."
   ]
  },
  {
   "cell_type": "code",
   "execution_count": null,
   "metadata": {},
   "outputs": [],
   "source": [
    "# DOW Stock Price on August 9, 2013.\n",
    "print(stocks[(stocks['date'] == min(stocks['date'])) & (stocks['ticker'] == 'DOW')]['close'])\n",
    "\n",
    "# DOW Stock Price on August 9, 2013.\n",
    "print(stocks[(stocks['date'] == max(stocks['date'])) & (stocks['ticker'] == 'DOW')]['close'])"
   ]
  },
  {
   "cell_type": "code",
   "execution_count": null,
   "metadata": {},
   "outputs": [],
   "source": [
    "aapl_pct_change = 100 * (454.37 - 3.95) / 3.95\n",
    "dow_pct_change = 100 * (38.08 - 19.0287) / 19.0287"
   ]
  },
  {
   "cell_type": "code",
   "execution_count": null,
   "metadata": {},
   "outputs": [],
   "source": [
    "# Set size of figure: eight horizontal inches by five vertical inches.\n",
    "plt.figure(figsize=(8, 5))\n",
    "\n",
    "# Create text:\n",
    "# at (horizontal = 0.5, vertical = 0.6)\n",
    "# stating the percent change (s means string)\n",
    "# center-aligned\n",
    "# font size 150\n",
    "# alpha = 1 --> totally opaque\n",
    "\n",
    "\n",
    "\n",
    "# Create text:\n",
    "# at (horizontal = 0.5, vertical = 0.25)\n",
    "# stating \"growth in Apple's stock price, compared to 100% increase in the Dow.\"\n",
    "# with a line break in between \"price\" and \"compared\"\n",
    "# center-aligned\n",
    "# font size 32\n",
    "# alpha = 0.5 --> 50% clear; 50% opaque\n",
    "\n",
    "\n",
    "# No axes.\n",
    "plt.axis('off')\n",
    "\n",
    "# Show plot!\n",
    "plt.show()"
   ]
  },
  {
   "cell_type": "markdown",
   "metadata": {},
   "source": [
    "Identifying the right combination of `figsize`, `x`, `y`, `size`, line breaks (`\\n`) in `s`, and so on will mostly be done through guess-and-check. \n",
    "- ***My \"best practice\" recommendation***: copy what exists now to your next use, then tweak as needed!"
   ]
  },
  {
   "cell_type": "markdown",
   "metadata": {},
   "source": [
    "**Practice 3**: Report that `GOOG` (Google) grew from 100.76 in August 2004 to 890.31 in August 2013. (I've given you the `goog_pct_change` below.) Be sure to compare it to another number!"
   ]
  },
  {
   "cell_type": "code",
   "execution_count": null,
   "metadata": {},
   "outputs": [],
   "source": [
    "goog_pct_change = 100 * (890.31 - 100.76) / (100.76)"
   ]
  },
  {
   "cell_type": "code",
   "execution_count": null,
   "metadata": {
    "scrolled": true
   },
   "outputs": [],
   "source": [
    "# Set size of figure: ten horizontal inches by seven vertical inches.\n",
    "\n",
    "\n",
    "# Create text:\n",
    "# at (horizontal = 0.5, vertical = 0.55)\n",
    "# stating the percent change (s means string)\n",
    "# center-aligned\n",
    "# font size 225\n",
    "# alpha = 0.9\n",
    "\n",
    "\n",
    "\n",
    "# Create text:\n",
    "# at (horizontal = 0.5, vertical = 0.15)\n",
    "# stating \"in Google's stock price, compared to 100% increase in the Dow.\"\n",
    "# center-aligned\n",
    "# font size 45\n",
    "# alpha = 0.5\n",
    "\n",
    "# No axes.\n",
    "\n",
    "\n",
    "# Show plot!\n",
    "plt.show()"
   ]
  },
  {
   "cell_type": "markdown",
   "metadata": {},
   "source": [
    "> You might say, **\"Matt! This isn't data visualization!!\"**\n",
    "\n",
    "I disagree, because we're communicating data in a way that probably gets our point across.\n",
    "- It's not lost in a table.\n",
    "- It's very clearly calling out what we want to emphasize.\n",
    "- As Einstein said, \"Everything should be as simple as it can be, but not simpler.\" This is pretty simple. If it works... use it!\n",
    "- Understanding `x`, `y`, `fontsize`, etc. will be helpful later if we want to annotate a plot with text.\n",
    "\n",
    "![](./images/wordart.png)\n",
    "\n",
    "But I also understand that we could have done the above with Microsoft WordArt... so let's do something a bit more sophisticated.\n",
    "\n",
    "---"
   ]
  },
  {
   "cell_type": "markdown",
   "metadata": {},
   "source": [
    "**Example 4**: Suppose we wanted to compare AAPL performance to Dow growth using a bar chart."
   ]
  },
  {
   "cell_type": "code",
   "execution_count": null,
   "metadata": {
    "scrolled": true
   },
   "outputs": [],
   "source": [
    "# Set size of figure: eight horizontal inches by five vertical inches.\n",
    "plt.figure(figsize=(8, 5))\n",
    "\n",
    "# Create a bar chart.\n",
    "# plt.bar() will create a vertical bar chart.\n",
    "\n",
    "\n",
    "# Note that we create two objects here: aapl and dow.\n",
    "\n",
    "# Add a title and show the plot.\n"
   ]
  },
  {
   "cell_type": "markdown",
   "metadata": {},
   "source": [
    "**If you are reporting one or two numbers**, then:\n",
    "- simply state the numbers, or\n",
    "- compare numbers using a bar chart.\n",
    "\n",
    "What you choose to do depends on the time and energy you have.\n",
    "\n",
    "Remember that it is usually a bad idea to just report one number!\n",
    "\n",
    "---\n",
    "\n",
    "#### Commonly, we want to visualize *distributions*.\n",
    "- The **distribution** of a variable is 1) the set of all values of that variable and 2) how frequently we observe each value.\n",
    "\n",
    "![](./images/iq.jpeg)\n",
    "\n",
    "- This is a visual representation of all of our data. We can then use this to answer lots of other questions.\n",
    "    - What is the likeliest IQ for someone to have?\n",
    "    - What is the range of IQs?\n",
    "    - How likely is it that someone has an IQ above 110? Between 85 and 105?\n",
    "\n",
    "### If your goal is to visualize the distribution of one variable, then:\n",
    "- if that variable is qualitative: **use a bar chart**.\n",
    "- if that variable is quantitative: **use a histogram**."
   ]
  },
  {
   "cell_type": "markdown",
   "metadata": {},
   "source": [
    "**Example 5**: Suppose we wanted to visualize the distribution of stock values. (That is, how many values did we observe for each stock?)"
   ]
  },
  {
   "cell_type": "code",
   "execution_count": null,
   "metadata": {},
   "outputs": [],
   "source": [
    "stocks['ticker'].value_counts()"
   ]
  },
  {
   "cell_type": "code",
   "execution_count": null,
   "metadata": {},
   "outputs": [],
   "source": [
    "# Create a bar chart.\n",
    "# plt.bar() will create a vertical bar chart.\n",
    "# We have to pass in our X (labels) and Y (values).\n",
    "\n",
    "\n",
    "# Add a title and show the plot.\n",
    "plt.title('Number of Closing Stock Prices Stored');"
   ]
  },
  {
   "cell_type": "markdown",
   "metadata": {},
   "source": [
    "**Example 6**: Suppose we wanted to visualize the distribution of stock values but write out the name instead of using the stock ticker. What's the problem here?"
   ]
  },
  {
   "cell_type": "code",
   "execution_count": null,
   "metadata": {},
   "outputs": [],
   "source": [
    "# Create a bar chart.\n",
    "# plt.bar() will create a vertical bar chart.\n",
    "# We have to pass in our X (labels) and Y (values).\n",
    "plt.bar(['Starbucks', 'Intel Corp.', 'Nike', 'Apple', 'Yahoo', 'Dow', 'Google', 'Nasdaq Composite'],\n",
    "        stocks['ticker'].value_counts())\n",
    "\n",
    "# Add a title and show the plot.\n",
    "plt.title('Number of Closing Stock Prices Stored');"
   ]
  },
  {
   "cell_type": "markdown",
   "metadata": {},
   "source": [
    "**Example 7**: Suppose we wanted to visualize the distribution of stock values but write out the name instead of using the stock ticker. We can get around the above issue by creating a **horizontal bar chart**."
   ]
  },
  {
   "cell_type": "code",
   "execution_count": null,
   "metadata": {},
   "outputs": [],
   "source": [
    "# plt.barh() will create a horizontal bar chart. (Note the h at the end of bar!)\n",
    "# We have to pass in our values and labels again. Luckily, we don't need to swap the order!\n",
    "\n",
    "\n",
    "\n",
    "plt.title('Number of Closing Stock Prices Stored');"
   ]
  },
  {
   "cell_type": "markdown",
   "metadata": {},
   "source": [
    "**Example 8**: Suppose we wanted to visualize the distribution of closing stock prices for `SBUX`."
   ]
  },
  {
   "cell_type": "code",
   "execution_count": null,
   "metadata": {},
   "outputs": [],
   "source": [
    "\n",
    "plt.title('Closing Stock Prices for SBUX');"
   ]
  },
  {
   "cell_type": "code",
   "execution_count": null,
   "metadata": {},
   "outputs": [],
   "source": [
    "stocks[stocks['ticker'] == 'SBUX']['close'].describe()"
   ]
  },
  {
   "cell_type": "markdown",
   "metadata": {},
   "source": [
    "- Note that histograms are easier to produce. When dealing with qualitative variables, we need to tell our bar chart what the X values are. When dealing with quantitative variables, the histogram can infer what it is!\n",
    "- However, also note that histograms can vary wildly based on how many bins (\"categories\") there are."
   ]
  },
  {
   "cell_type": "code",
   "execution_count": null,
   "metadata": {},
   "outputs": [],
   "source": [
    "\n",
    "plt.title('Closing Stock Prices for SBUX (5 bins)');"
   ]
  },
  {
   "cell_type": "code",
   "execution_count": null,
   "metadata": {},
   "outputs": [],
   "source": [
    "\n",
    "plt.title('Closing Stock Prices for SBUX (25 bins)');"
   ]
  },
  {
   "cell_type": "code",
   "execution_count": null,
   "metadata": {},
   "outputs": [],
   "source": [
    "\n",
    "plt.title('Closing Stock Prices for SBUX (100 bins)');"
   ]
  },
  {
   "cell_type": "markdown",
   "metadata": {},
   "source": [
    "There is no best number of bins and any guidelines about number of bins will usually depend on the shape of the data. \n",
    "- ***My \"best practice\" recommendation***: Add a kernel density estimate (`kde`) that will attempt to estimate what the true probability density function (pdf) will look like. This can be done (easily) in `seaborn`, a Python visualization library built on top of `matplotlib`."
   ]
  },
  {
   "cell_type": "code",
   "execution_count": null,
   "metadata": {},
   "outputs": [],
   "source": [
    "import seaborn as sns"
   ]
  },
  {
   "cell_type": "code",
   "execution_count": null,
   "metadata": {
    "scrolled": false
   },
   "outputs": [],
   "source": [
    "sns.distplot(stocks[stocks['ticker'] == 'SBUX']['close'],\n",
    "             bins=10,\n",
    "             kde = True);"
   ]
  },
  {
   "cell_type": "code",
   "execution_count": null,
   "metadata": {},
   "outputs": [],
   "source": []
  },
  {
   "cell_type": "markdown",
   "metadata": {},
   "source": [
    "Note that a kernel density estimate might be confusing to some stakeholders (clients, boss, etc.). Consider using `kde = True` only for exploratory visualization.\n",
    "    \n",
    "---\n",
    "\n",
    "**Practice 9**: Visualize the distribution of `GOOG` closing prices. Try it with at least two different sets of bins and at least generate one with a kernel density estimate!"
   ]
  },
  {
   "cell_type": "code",
   "execution_count": null,
   "metadata": {},
   "outputs": [],
   "source": []
  },
  {
   "cell_type": "code",
   "execution_count": null,
   "metadata": {},
   "outputs": [],
   "source": []
  },
  {
   "cell_type": "code",
   "execution_count": null,
   "metadata": {},
   "outputs": [],
   "source": []
  },
  {
   "cell_type": "markdown",
   "metadata": {},
   "source": [
    "**If your goal is to visualize the distribution of one variable**, then:\n",
    "- if that variable is qualitative: use a bar chart.\n",
    "- if that variable is quantitative: use a histogram.\n",
    "\n",
    "Remember that if you are visualizing with a histogram, then your number of bins might substantially affect how your distribution looks, especially for small sample sizes. Consider using a kernel density estimate to help you visualize a smooth distribution of your data during your **exploratory** phase, but you *may* want to exclude the kde for your **explanatory** (reporting) phase.\n",
    "\n",
    "---\n",
    "\n",
    "#### Commonly, we want to visualize *relationships*.\n",
    "- The **relationship** between two variables allows us to understand if and how one variable changes when another changes.\n",
    "\n",
    "![](./images/scatter.jpeg)\n",
    "\n",
    "- This is a visual representation of all of our data. We can use this to answer lots of other questions.\n",
    "    - Does there appear to be any association between ice cream and murders?\n",
    "    - As ice cream consumption increases, how does the number of murders change?\n",
    "    - **Note**: We cannot say anything about causality here!\n",
    "\n",
    "### If your goal is to visualize the relationship between two variables, then:\n",
    "- if you are comparing two qualitative variables, **use a table or a heatmap**.\n",
    "    - Note: When comparing two qualitative variables, we're usually looking at counts, averages, or some other summary by each of the two categorical variables... so in many cases it's _technically_ three variables.\n",
    "- if you are comparing time and another quantitative variable, **use a lineplot**.\n",
    "- if you are comparing two (non-time) quantitative variables, **use a scatterplot**.\n",
    "- if you are comparing a qualitative variable and a quantitative variable, **use stacked histograms**."
   ]
  },
  {
   "cell_type": "markdown",
   "metadata": {},
   "source": [
    "**Example 10**: Suppose we wanted to examine how stock volume changes over days of week and by stock ticker."
   ]
  },
  {
   "cell_type": "code",
   "execution_count": null,
   "metadata": {},
   "outputs": [],
   "source": [
    "# Generate a PivotTable examining the average volume.\n",
    "\n",
    "df = pd.pivot_table(,\n",
    "               values = ,    # the variable we want to measure\n",
    "               index = ,    # the rows of our PivotTable - here, it's the stock tickers\n",
    "               columns = 'weekday', # the columns of our PivotTable - here, it's the days of the week\n",
    "               aggfunc = np.mean)   # the function we use to aggregate - here, it's numpy.mean()"
   ]
  },
  {
   "cell_type": "code",
   "execution_count": null,
   "metadata": {},
   "outputs": [],
   "source": [
    "# Let's check out the PivotTable.\n",
    "\n",
    "df"
   ]
  },
  {
   "cell_type": "code",
   "execution_count": null,
   "metadata": {},
   "outputs": [],
   "source": [
    "plt.figure(figsize=(16,9))\n",
    "table = plt.table(cellText=np.array(round(df,1)),\n",
    "          rowLabels=df.index,\n",
    "          colLabels=df.columns,\n",
    "          loc='center')\n",
    "\n",
    "table.set_fontsize(24)\n",
    "table.scale(1,3)\n",
    "plt.axis('off')\n",
    "plt.show();"
   ]
  },
  {
   "cell_type": "code",
   "execution_count": null,
   "metadata": {},
   "outputs": [],
   "source": [
    "fig, ax = plt.subplots(figsize=(20, 20))\n",
    "table = ax.imshow(X=np.array(round(df,1)/1000000),\n",
    "                   cmap = 'Greens')\n",
    "\n",
    "ax.set_xticks(np.arange(len(df.columns)))\n",
    "ax.set_yticks(np.arange(len(df.index)))\n",
    "\n",
    "ax.set_xticklabels(df.columns)\n",
    "ax.set_yticklabels(df.index)\n",
    "\n",
    "plt.xticks(fontsize=20)\n",
    "plt.yticks(fontsize=20)\n",
    "plt.title(\"Stock Volume by Stock Ticker & Day of Week\", fontsize = 30)\n",
    "\n",
    "for i in range(len(df.columns)):\n",
    "    for j in range(len(df.index)):\n",
    "        text = ax.text(i,\n",
    "                       j,\n",
    "                       round(df.loc[df.index[j], df.columns[i]],1),\n",
    "                       ha=\"center\",\n",
    "                       va=\"center\",\n",
    "                       color='k',\n",
    "                       fontsize = 17)\n",
    "        \n",
    "plt.show();"
   ]
  },
  {
   "cell_type": "markdown",
   "metadata": {},
   "source": [
    "**Example 11**: Suppose we wanted to examine how stock volume changes over time for GOOG."
   ]
  },
  {
   "cell_type": "code",
   "execution_count": null,
   "metadata": {},
   "outputs": [],
   "source": [
    "# Establish the size of the figure.\n",
    "plt.figure(figsize=(16, 9))\n",
    "\n",
    "# Create line plot of GOOG volume over time.\n",
    "plt.plot(stocks[stocks['ticker'] == 'GOOG']['date'],\n",
    "         stocks[stocks['ticker'] == 'GOOG']['volume'],\n",
    "         label = 'GOOG')\n",
    "\n",
    "plt.legend(loc = 'upper right')\n",
    "\n",
    "# Show our plot!\n",
    "plt.show();"
   ]
  },
  {
   "cell_type": "markdown",
   "metadata": {},
   "source": [
    "**Example 12**: Suppose we wanted to examine how stock volume changes over time for GOOG *and* for NKE."
   ]
  },
  {
   "cell_type": "code",
   "execution_count": null,
   "metadata": {},
   "outputs": [],
   "source": [
    "# Establish the size of the figure.\n",
    "plt.figure(figsize=(16, 9))\n",
    "\n",
    "# Create line plot of GOOG volume over time.\n",
    "plt.plot(stocks[stocks['ticker'] == 'GOOG']['date'],\n",
    "         stocks[stocks['ticker'] == 'GOOG']['volume'],\n",
    "         label = 'GOOG',\n",
    "         alpha = 0.5)\n",
    "\n",
    "# Create line plot of NKE volume over time.\n",
    "plt.plot(stocks[stocks['ticker'] == 'NKE']['date'],\n",
    "         stocks[stocks['ticker'] == 'NKE']['volume'],\n",
    "         label = 'NKE',\n",
    "         alpha = 0.5)\n",
    "\n",
    "plt.legend(loc = 'upper right')\n",
    "\n",
    "# Show our plot!\n",
    "plt.show();"
   ]
  },
  {
   "cell_type": "markdown",
   "metadata": {},
   "source": [
    "**Example 13**: Suppose we wanted to examine how the stock volume changed from the first day of trading in 2012 to the first day of trading in 2013 for all stock tickers.\n",
    "- A **slopegraph** is what Cole Nussbaumer Knaflic refers to as a line graph with two points on the x-axis."
   ]
  },
  {
   "cell_type": "code",
   "execution_count": null,
   "metadata": {},
   "outputs": [],
   "source": [
    "# Establish the size of the figure.\n",
    "plt.figure(figsize=(16, 9))\n",
    "\n",
    "# Create line plot of all stock volumes over 2012.\n",
    "for i in ['SBUX', 'INTC', 'NKE', 'AAPL', 'YHOO', 'DOW', 'GOOG', 'NDAQ']:\n",
    "    plt.plot(stocks[(stocks['ticker'] == i) & ((stocks['date'] == '2012-01-03') | (stocks['date'] == '2013-01-02'))]['date'],\n",
    "         stocks[(stocks['ticker'] == i) & ((stocks['date'] == '2012-01-03') | (stocks['date'] == '2013-01-02'))]['volume'],\n",
    "         label = str(i))\n",
    "    \n",
    "plt.legend(loc = 'upper right')\n",
    "\n",
    "# Show our plot!\n",
    "plt.show();"
   ]
  },
  {
   "cell_type": "markdown",
   "metadata": {},
   "source": [
    "**Example 14**: Suppose we wanted to visualize how strongly correlated high daily prices and daily trading volumes are."
   ]
  },
  {
   "cell_type": "code",
   "execution_count": null,
   "metadata": {},
   "outputs": [],
   "source": [
    "# Establish the size of the figure.\n",
    "plt.figure(figsize=(16, 9))\n",
    "\n",
    "# Create scatter plot of high prices versus volume.\n",
    "plt.scatter(stocks['high'],\n",
    "            stocks['volume']);\n",
    "\n",
    "plt.title(\"High Daily Prices versus Daily Trading Volume\")\n",
    "\n",
    "# Show our plot!\n",
    "plt.show();"
   ]
  },
  {
   "cell_type": "markdown",
   "metadata": {},
   "source": [
    "**Example 15**: Suppose you want to visualize the distribution of low prices for `GOOG`, `SBUX`, and `AAPL`."
   ]
  },
  {
   "cell_type": "code",
   "execution_count": null,
   "metadata": {
    "scrolled": false
   },
   "outputs": [],
   "source": [
    "# Establish figure size.\n",
    "plt.figure(figsize = (16,9))\n",
    "\n",
    "# We can create subplots, which allows us to have multiple subplots in the same plot.\n",
    "# plt.subplot(311) means we have 3 rows, 1 column, and are referencing plot 1.\n",
    "ax1 = plt.subplot(311)\n",
    "ax1.set_title('GOOG Low Prices')\n",
    "ax1.hist(stocks[stocks['ticker'] == 'GOOG']['low']);\n",
    "\n",
    "# plt.subplot(312) means we have 3 rows, 1 column, and are referencing plot 2.\n",
    "ax2 = plt.subplot(312, sharex=ax1)\n",
    "ax2.set_title('SBUX Low Prices')\n",
    "ax2.hist(stocks[stocks['ticker'] == 'SBUX']['low']);\n",
    "\n",
    "# plt.subplot(311) means we have 3 rows, 1 column, and are referencing plot 3.\n",
    "ax3 = plt.subplot(313, sharex=ax2)\n",
    "ax3.set_title('AAPL Low Prices')\n",
    "ax3.hist(stocks[stocks['ticker'] == 'AAPL']['low']);\n",
    "\n",
    "plt.show();"
   ]
  },
  {
   "cell_type": "markdown",
   "metadata": {},
   "source": [
    "**Example 16**: Suppose you want to visualize the distribution of low prices for `GOOG`, `SBUX`, and `AAPL` but want to explicitly show the differences in means between the groups."
   ]
  },
  {
   "cell_type": "code",
   "execution_count": null,
   "metadata": {},
   "outputs": [],
   "source": [
    "# Establish figure size.\n",
    "plt.figure(figsize = (16,9))\n",
    "\n",
    "# We can create subplots, which allows us to have multiple subplots in the same plot.\n",
    "# plt.subplot(311) means we have 3 rows, 1 column, and are referencing plot 1.\n",
    "ax1 = plt.subplot(311)\n",
    "ax1.set_title('GOOG Low Prices')\n",
    "ax1.hist(stocks[stocks['ticker'] == 'GOOG']['low'])\n",
    "ax1.vlines(x = np.mean(stocks[stocks['ticker'] == 'GOOG']['low']), ymin = 0, ymax = 500, color = 'r');\n",
    "\n",
    "# plt.subplot(312) means we have 3 rows, 1 column, and are referencing plot 2.\n",
    "ax2 = plt.subplot(312, sharex=ax1)\n",
    "ax2.set_title('SBUX Low Prices')\n",
    "ax2.hist(stocks[stocks['ticker'] == 'SBUX']['low'])\n",
    "ax2.vlines(x = np.mean(stocks[stocks['ticker'] == 'SBUX']['low']), ymin = 0, ymax = 1200, color = 'r');\n",
    "\n",
    "# plt.subplot(311) means we have 3 rows, 1 column, and are referencing plot 3.\n",
    "ax3 = plt.subplot(313, sharex=ax2)\n",
    "ax3.set_title('AAPL Low Prices')\n",
    "ax3.hist(stocks[stocks['ticker'] == 'AAPL']['low'])\n",
    "ax3.vlines(x = np.mean(stocks[stocks['ticker'] == 'AAPL']['low']), ymin = 0, ymax = 2100, color = 'r');\n",
    "\n",
    "plt.show();"
   ]
  },
  {
   "cell_type": "markdown",
   "metadata": {},
   "source": [
    "Some people will use stacked bar charts to visualize the distribution of variables broken out into categories. I generally prefer to not do this.\n",
    "- ***My \"best practice\" recommendation***: Stay away from stacked bar charts; there are usually better ways to communicate what you want to communicate."
   ]
  },
  {
   "cell_type": "markdown",
   "metadata": {},
   "source": [
    "![](./images/stacked-bar-chart.png)"
   ]
  },
  {
   "cell_type": "markdown",
   "metadata": {
    "collapsed": true
   },
   "source": [
    "### If-This-Then-That Rules\n",
    "- If I am stating one or two numbers, then:\n",
    "    - **simply report the numbers**.\n",
    "    - compare numbers using a **bar chart**.\n",
    "- If I am visualizing the distribution of one variable, then:\n",
    "    - If that variable is qualitative: **use a bar chart**.\n",
    "    - If that variable is quantitative: **use a histogram**.\n",
    "- If I am visualizing the relationship between two variables, then:\n",
    "    - If both variables are qualitative, then: \n",
    "        - If there are at most three categories for both variable, then **use a table**.\n",
    "        - If there are more than three categories in either variable, then **use a heatmap**.\n",
    "    - If both variables are quantitative, then:\n",
    "        - If one variable is time, then **use a line plot**.\n",
    "        - Otherwise, **use a scatterplot**.\n",
    "    - If one variable is quantitative and another is qualitative then:\n",
    "        - **Use a bunch of histograms**.\n",
    "        - Stacked bar charts, if you choose to do so."
   ]
  },
  {
   "cell_type": "markdown",
   "metadata": {},
   "source": [
    "# Intermediate: Improving the basic visualization.\n",
    "\n",
    "If you're familiar with before/after images, they're a convenient way for us to see how drastically things have changed.\n",
    "\n",
    "![](./images/beforeafter.jpg)\n",
    "\n",
    "What we've done so far is to create the \"before\" image. We've identified a ***good*** tool for the job. Now let's make it a ***great*** tool.\n",
    "\n",
    "Before getting into a specific list of things to consider, let's critique an example of a visual."
   ]
  },
  {
   "cell_type": "markdown",
   "metadata": {},
   "source": [
    "**Example 17**: Suppose we wanted to visualize two stock prices over time. It would be helpful to be able to compare these stock prices to one another as well.\n",
    "\n",
    "<details><summary>What type of chart would we likely want to create?</summary>\n",
    "```\n",
    "- If we are visualizing the relationship between two variables:\n",
    "    - If both variables are quantitative:\n",
    "        - If one quantitative variable is time:\n",
    "            - If we are visualizing over more than two time points:\n",
    "                - Let's do a line graph!\n",
    "```\n",
    "</details>"
   ]
  },
  {
   "cell_type": "code",
   "execution_count": null,
   "metadata": {},
   "outputs": [],
   "source": [
    "import matplotlib.dates as dates\n",
    "import datetime"
   ]
  },
  {
   "cell_type": "code",
   "execution_count": null,
   "metadata": {},
   "outputs": [],
   "source": [
    "# Establish the size of the figure.\n",
    "plt.figure(figsize=(15, 15))\n",
    "\n",
    "# Create two plots. (2 rows, 1 column, referring to 1st plot)\n",
    "plt.subplot(2, 1, 1)\n",
    "\n",
    "# Create line plot of AAPL closing price over time.\n",
    "plt.plot(stocks[stocks['ticker'] == 'AAPL']['date'],\n",
    "         stocks[stocks['ticker'] == 'AAPL']['close'],\n",
    "         c = 'green',\n",
    "         label = 'AAPL')\n",
    "\n",
    "# Create the legend and set it in the upper-right hand corner.\n",
    "plt.legend(loc = 'upper right')\n",
    "\n",
    "# Create a grid in the background.\n",
    "plt.grid(True, linewidth=3, linestyle = '-.', c='black')\n",
    "\n",
    "# Create tick mark labels on the X axis and rotate them.\n",
    "plt.xticks(dates.drange(dstart=datetime.datetime(1997, 1, 1),\n",
    "                        dend=datetime.datetime(2014, 12, 31),\n",
    "                        delta=datetime.timedelta(weeks=26)),\n",
    "           dates.num2date(dates.drange(dstart=datetime.datetime(1997, 1, 1),\n",
    "                        dend=datetime.datetime(2014, 12, 31),\n",
    "                        delta=datetime.timedelta(weeks=26))), rotation = 45)\n",
    "\n",
    "# Create tick mark labels on the Y axis and rotate them.\n",
    "plt.yticks(rotation = 45)\n",
    "\n",
    "plt.ylabel(\"Price in Dollars\")\n",
    "plt.xlabel(\"Time\")\n",
    "plt.title(\"AAPL and SBUX rates over time\")\n",
    "\n",
    "# Create two plots. (2 rows, 1 column, referring to 2nd plot)\n",
    "plt.subplot(2, 1, 2)\n",
    "\n",
    "# Create line plot of SBUX closing price over time.\n",
    "plt.plot(stocks[stocks['ticker'] == 'SBUX']['date'],\n",
    "         stocks[stocks['ticker'] == 'SBUX']['close'],\n",
    "         c = 'red',\n",
    "         label = 'SBUX')\n",
    "\n",
    "# Create the legend and set it in the upper-left hand corner.\n",
    "plt.legend(loc = 'upper left')\n",
    "\n",
    "# Create a grid in the background.\n",
    "plt.grid(True, linewidth=3, linestyle = '-.', c='black')\n",
    "\n",
    "# Create tick mark labels on the X axis and rotate them.\n",
    "plt.xticks(dates.drange(dstart=datetime.datetime(1997, 1, 1),\n",
    "                        dend=datetime.datetime(2014, 12, 31),\n",
    "                        delta=datetime.timedelta(weeks=26)),\n",
    "           dates.num2date(dates.drange(dstart=datetime.datetime(1997, 1, 1),\n",
    "                        dend=datetime.datetime(2014, 12, 31),\n",
    "                        delta=datetime.timedelta(weeks=26))), rotation = 45)\n",
    "\n",
    "# Create tick mark labels on the Y axis and rotate them.\n",
    "plt.yticks(rotation = 45)\n",
    "\n",
    "# Create X axis label.\n",
    "plt.xlabel(\"Time\")\n",
    "\n",
    "# Create Y axis label.\n",
    "plt.ylabel(\"Price in Dollars\")\n",
    "\n",
    "# Great line when working with multiple subplots; makes sure they're fitted well.\n",
    "plt.tight_layout();"
   ]
  },
  {
   "cell_type": "markdown",
   "metadata": {},
   "source": [
    "<details><summary>Let's critique this. What do you like about these plots? What do you dislike?</summary>\n",
    "```\n",
    "- The y-axes are different, so it's hard to directly compare the two together. This could be done more efficiently in one plot.\n",
    "- Red and green together is a bad idea due to colorblindness (a pretty prevalent condition). Let's pick better colors! Blue and orange are good choices for two contrasting colors.\n",
    "- The grid is really \"loud\" and pulls attention from the series we want to study. Can we make it subtler in color and pattern or get rid of it completely?\n",
    "- The x-axis has way too much information. At minimum, we can get rid of the 00:00:00+00:00 because this isn't providing any additional information. However, we can probably get rid of the days/months and make the tick marks less frequent. (We know how years are ordered, so we could just have 1998, 2003, 2008, and 2013 if we wanted!)\n",
    "- Rotating the tick labels makes it tough for us to read the labels. Let's un-rotate them.\n",
    "- We probably don't need the x-axis label. If we see the values 1998, 2003, 2008, and 2013, we can reasonably assume that this means years or time. Since the label isn't giving us any additional information, let's get rid of it!\n",
    "- The title is hard to view. Let's make it larger.\n",
    "- We can increase the size of our legend.\n",
    "- This is a non-exhaustive list!\n",
    "```\n",
    "</details>"
   ]
  },
  {
   "cell_type": "code",
   "execution_count": null,
   "metadata": {},
   "outputs": [],
   "source": [
    "# Establish the size of the figure.\n",
    "plt.figure(figsize=(16, 9))\n",
    "\n",
    "# Create line plot of AAPL closing price over time.\n",
    "plt.plot(stocks[stocks['ticker'] == 'AAPL']['date'],\n",
    "         stocks[stocks['ticker'] == 'AAPL']['close'],\n",
    "         c = 'blue',\n",
    "         label = 'AAPL')\n",
    "\n",
    "# Create line plot of SBUX closing price over time.\n",
    "plt.plot(stocks[stocks['ticker'] == 'SBUX']['date'],\n",
    "         stocks[stocks['ticker'] == 'SBUX']['close'],\n",
    "         c = 'orange',\n",
    "         label = 'SBUX')\n",
    "\n",
    "# Create the legend and set it in the upper-left hand corner.\n",
    "plt.legend(loc = 'upper left', fontsize = 20)\n",
    "\n",
    "# Create a grid in the background.\n",
    "plt.grid(True, linewidth=0.5, linestyle = '-', c='black', alpha = 0.1)\n",
    "\n",
    "# Create tick mark labels on the Y axis and rotate them.\n",
    "plt.xticks(fontsize = 20)\n",
    "plt.yticks(fontsize = 20)\n",
    "\n",
    "# Create title.\n",
    "plt.title(\"Apple's stock price has beaten Starbucks since 2005.\", fontsize = 30);"
   ]
  },
  {
   "cell_type": "code",
   "execution_count": null,
   "metadata": {},
   "outputs": [],
   "source": [
    "# Establish the size of the figure.\n",
    "plt.figure(figsize=(16, 9))\n",
    "\n",
    "# Create line plot of AAPL closing price over time.\n",
    "plt.plot(stocks[stocks['ticker'] == 'AAPL']['date'],\n",
    "         stocks[stocks['ticker'] == 'AAPL']['close'],\n",
    "         c = 'blue',\n",
    "         label = 'AAPL')\n",
    "\n",
    "# Create line plot of SBUX closing price over time.\n",
    "plt.plot(stocks[stocks['ticker'] == 'SBUX']['date'],\n",
    "         stocks[stocks['ticker'] == 'SBUX']['close'],\n",
    "         c = 'orange',\n",
    "         label = 'SBUX')\n",
    "\n",
    "# Create the legend and set it in the upper-left hand corner.\n",
    "plt.legend(loc = 'upper left', fontsize = 20)\n",
    "\n",
    "# Create a grid in the background.\n",
    "plt.grid(True, linewidth=0.5, linestyle = '-', c='black', alpha = 0.1)\n",
    "\n",
    "# Create tick mark labels on the Y axis and rotate them.\n",
    "plt.xticks(fontsize = 20)\n",
    "plt.yticks(fontsize = 20)\n",
    "\n",
    "# Create title.\n",
    "plt.title(\"Apple's stock price has beaten Starbucks since 2005.\", fontsize = 30)\n",
    "\n",
    "# Add vertical line (vlines) to specifically identify the point of interest.\n",
    "plt.vlines(x=datetime.datetime(2005, 1, 1), ymin=0, ymax=1000, color='r');"
   ]
  },
  {
   "cell_type": "markdown",
   "metadata": {
    "collapsed": true
   },
   "source": [
    "## When de-cluttering, here is an incomplete list of things to consider doing:\n",
    "### Chart Types\n",
    "##### Take away pie charts. (Use a bar chart instead!)\n",
    "    \n",
    "![](./images/pie_chart.png)\n",
    "    \n",
    "##### Take away 3D charts (especially pie charts)!\n",
    "    \n",
    "![](./images/3d_pie_chart.jpg)\n",
    "![](./images/3d_column_chart.jpg)\n",
    "\n",
    "##### Take away secondary y-axes.\n",
    "    \n",
    "![](./images/secondary_y_axis.png)\n",
    "\n",
    "### Use color effectively.\n",
    "    - Avoid red/green.\n",
    "    - Use a gradient.\n",
    "    \n",
    "![](./images/color-bar-chart.png)\n",
    "\n",
    "    - Remove background color.\n",
    "    - Color should emphasize.\n",
    "    - There are ways to emphasize other than color! (Size, a label, proximity, etc.) If you are concerned that your image is too \"cluttered,\" then consider toning down your use of color.\n",
    "    \n",
    "### Axes\n",
    "    - Don't rotate labels.\n",
    "    - Consider rotating your chart if your axis labels are too large.\n",
    "    - Move borders to light grey.\n",
    "    - Remove grid.\n",
    "    \n",
    "### Other\n",
    "    - Place legend properly (if needed).\n",
    "    - If lots of small categories/extreme values, consider collapsing/truncating them.\n",
    "    - Order categories in sensical order. If a logical/sensical order does not exist, then from largest value to smallest value."
   ]
  },
  {
   "cell_type": "markdown",
   "metadata": {
    "collapsed": true
   },
   "source": [
    "---\n",
    "## Crafting the experience:\n",
    "    - Use smart chart title.    \n",
    "    - Consider the \"Z\".\n",
    "    - Align along vertical axis.\n",
    "\n",
    "<img src=\"./images/investment_1.png\" width=\"500\">\n",
    "\n",
    "<img src=\"./images/investment_2.png\" width=\"500\">\n",
    "\n",
    "    - Use bold to emphasize text.\n",
    "        - But don't bold everything.\n",
    "    - If there is a lot going on, then walk people through it slowly."
   ]
  },
  {
   "cell_type": "markdown",
   "metadata": {},
   "source": [
    "# Interactivity: Adding interactivity to visualizations."
   ]
  },
  {
   "cell_type": "code",
   "execution_count": null,
   "metadata": {},
   "outputs": [],
   "source": [
    "from bokeh.io import output_file, show"
   ]
  },
  {
   "cell_type": "code",
   "execution_count": null,
   "metadata": {},
   "outputs": [],
   "source": [
    "import numpy as np\n",
    "\n",
    "from bokeh.io import show\n",
    "from bokeh.layouts import column\n",
    "from bokeh.models import ColumnDataSource, RangeTool\n",
    "from bokeh.plotting import figure\n",
    "from bokeh.sampledata.stocks import AAPL\n",
    "\n",
    "dates = np.array(AAPL['date'], dtype=np.datetime64)\n",
    "source = ColumnDataSource(data=dict(date=dates, close=AAPL['adj_close']))\n",
    "\n",
    "p = figure(plot_height=300, plot_width=800, tools=\"\", toolbar_location=None,\n",
    "           x_axis_type=\"datetime\", x_axis_location=\"above\",\n",
    "           background_fill_color=\"#efefef\", x_range=(dates[1500], dates[2500]))\n",
    "\n",
    "p.line('date', 'close', source=source)\n",
    "p.yaxis.axis_label = 'Price'\n",
    "\n",
    "select = figure(title=\"Drag the middle and edges of the selection box to change the range above\",\n",
    "                plot_height=130, plot_width=800, y_range=p.y_range,\n",
    "                x_axis_type=\"datetime\", y_axis_type=None,\n",
    "                tools=\"\", toolbar_location=None, background_fill_color=\"#efefef\")\n",
    "\n",
    "range_rool = RangeTool(x_range=p.x_range)\n",
    "range_rool.overlay.fill_color = \"navy\"\n",
    "range_rool.overlay.fill_alpha = 0.2\n",
    "\n",
    "select.line('date', 'close', source=source)\n",
    "select.ygrid.grid_line_color = None\n",
    "select.add_tools(range_rool)\n",
    "select.toolbar.active_multi = range_rool\n",
    "\n",
    "output_notebook()\n",
    "\n",
    "show(column(p, select))\n",
    "\n",
    "output_file(\"stock_slider.html\")"
   ]
  },
  {
   "cell_type": "markdown",
   "metadata": {},
   "source": [
    "<details><summary>What is a situation in which this visual would work well?</summary>\n",
    "```\n",
    "- When you're measuring something over a long period of time and want to be able to view the whole thing and also more granularly see individual shifts.\n",
    "```\n",
    "</details>"
   ]
  },
  {
   "cell_type": "code",
   "execution_count": null,
   "metadata": {
    "scrolled": false
   },
   "outputs": [],
   "source": [
    "p1 = figure(x_axis_type=\"datetime\", title=\"Stock Closing Prices\")\n",
    "p1.grid.grid_line_alpha = 0.3\n",
    "p1.xaxis.axis_label = 'Date'\n",
    "p1.yaxis.axis_label = 'Price'\n",
    "\n",
    "aapl = np.array(stocks[stocks['ticker'] == 'AAPL']['close'])\n",
    "aapl_dates = np.array(stocks[stocks['ticker'] == 'AAPL']['date'], dtype=np.datetime64)\n",
    "\n",
    "dow = np.array(stocks[stocks['ticker'] == 'DOW']['close'])\n",
    "dow_dates = np.array(stocks[stocks['ticker'] == 'DOW']['date'], dtype=np.datetime64)\n",
    "\n",
    "goog = np.array(stocks[stocks['ticker'] == 'GOOG']['close'])\n",
    "goog_dates = np.array(stocks[stocks['ticker'] == 'GOOG']['date'], dtype=np.datetime64)\n",
    "\n",
    "intc = np.array(stocks[stocks['ticker'] == 'INTC']['close'])\n",
    "intc_dates = np.array(stocks[stocks['ticker'] == 'INTC']['date'], dtype=np.datetime64)\n",
    "\n",
    "ndaq = np.array(stocks[stocks['ticker'] == 'NDAQ']['close'])\n",
    "ndaq_dates = np.array(stocks[stocks['ticker'] == 'NDAQ']['date'], dtype=np.datetime64)\n",
    "\n",
    "nke = np.array(stocks[stocks['ticker'] == 'NKE']['close'])\n",
    "nke_dates = np.array(stocks[stocks['ticker'] == 'NKE']['date'], dtype=np.datetime64)\n",
    "\n",
    "sbux = np.array(stocks[stocks['ticker'] == 'SBUX']['close'])\n",
    "sbux_dates = np.array(stocks[stocks['ticker'] == 'SBUX']['date'], dtype=np.datetime64)\n",
    "\n",
    "yhoo = np.array(stocks[stocks['ticker'] == 'YHOO']['close'])\n",
    "yhoo_dates = np.array(stocks[stocks['ticker'] == 'YHOO']['date'], dtype=np.datetime64)\n",
    "\n",
    "p1.line(stocks[stocks['ticker'] == 'AAPL']['date'], stocks[stocks['ticker'] == 'AAPL']['close'], color='#A6CEE3', legend='AAPL')\n",
    "p1.line(stocks[stocks['ticker'] == 'SBUX']['date'], stocks[stocks['ticker'] == 'SBUX']['close'], color='#A6CEE3', legend='SBUX')\n",
    "p1.legend.location = 'top_left'\n",
    "\n",
    "aapl = np.array(stocks[stocks['ticker'] == 'AAPL']['close'])\n",
    "aapl_dates = np.array(stocks[stocks['ticker'] == 'AAPL']['date'], dtype=np.datetime64)\n",
    "\n",
    "window_size = 30\n",
    "window = np.ones(window_size)/float(window_size)\n",
    "aapl_avg = np.convolve(aapl, window, 'same')\n",
    "\n",
    "p2 = figure(x_axis_type=\"datetime\", title=\"AAPL One-Month Average\")\n",
    "p2.grid.grid_line_alpha = 0\n",
    "p2.xaxis.axis_label = 'Date'\n",
    "p2.yaxis.axis_label = 'Price'\n",
    "p2.ygrid.band_fill_color = \"olive\"\n",
    "p2.ygrid.band_fill_alpha = 0.1\n",
    "\n",
    "p2.circle(aapl_dates, aapl, size=4, legend='close',\n",
    "          color='darkgrey', alpha=0.2)\n",
    "\n",
    "p2.line(aapl_dates, aapl_avg, legend='avg', color='navy')\n",
    "p2.legend.location = \"top_left\"\n",
    "\n",
    "output_notebook()\n",
    "\n",
    "show(gridplot([[p1,p2]], plot_width=480, plot_height=480))\n",
    "\n",
    "output_file(\"side_by_side_stocks.html\")"
   ]
  },
  {
   "cell_type": "code",
   "execution_count": null,
   "metadata": {},
   "outputs": [],
   "source": [
    "from numpy import linspace\n",
    "from scipy.stats.kde import gaussian_kde\n",
    "\n",
    "from bokeh.io import output_file, show\n",
    "from bokeh.models import ColumnDataSource, FixedTicker, PrintfTickFormatter\n",
    "from bokeh.plotting import figure\n",
    "from bokeh.sampledata.perceptions import probly\n",
    "\n",
    "def ridge(category, data, scale=20):\n",
    "    return list(zip([category]*len(data), scale*data))\n",
    "\n",
    "cats = list(reversed(probly.keys()))\n",
    "\n",
    "x = linspace(-20,110, 500)\n",
    "\n",
    "source = ColumnDataSource(data=dict(x=x))\n",
    "\n",
    "p = figure(y_range=cats, plot_width=900, x_range=(-5, 105), toolbar_location=None)\n",
    "\n",
    "for i, cat in enumerate(reversed(cats)):\n",
    "    pdf = gaussian_kde(probly[cat])\n",
    "    y = ridge(cat, pdf(x))\n",
    "    source.add(y, cat)\n",
    "    p.patch('x', cat, color='mediumblue', alpha=0.6, line_color=\"black\", source=source)\n",
    "\n",
    "p.outline_line_color = None\n",
    "p.background_fill_color = \"#efefef\"\n",
    "\n",
    "p.xaxis.ticker = FixedTicker(ticks=list(range(0, 101, 10)))\n",
    "p.xaxis.formatter = PrintfTickFormatter(format=\"%d%%\")\n",
    "\n",
    "p.ygrid.grid_line_color = None\n",
    "p.xgrid.grid_line_color = \"#dddddd\"\n",
    "p.xgrid.ticker = p.xaxis[0].ticker\n",
    "\n",
    "p.axis.minor_tick_line_color = None\n",
    "p.axis.major_tick_line_color = None\n",
    "p.axis.axis_line_color = None\n",
    "\n",
    "p.y_range.range_padding = 0.12\n",
    "\n",
    "output_notebook()\n",
    "\n",
    "show(p)\n",
    "\n",
    "output_file(\"ridgeplot.html\")"
   ]
  },
  {
   "cell_type": "code",
   "execution_count": null,
   "metadata": {},
   "outputs": [],
   "source": [
    "from bokeh.io import show\n",
    "from bokeh.models import LogColorMapper\n",
    "from bokeh.palettes import Viridis6 as palette\n",
    "from bokeh.plotting import figure\n",
    "\n",
    "from bokeh.sampledata.us_counties import data as counties\n",
    "from bokeh.sampledata.unemployment import data as unemployment\n",
    "\n",
    "palette.reverse()\n",
    "\n",
    "counties = {\n",
    "    code: county for code, county in counties.items() if county[\"state\"] == \"oh\"\n",
    "}\n",
    "\n",
    "county_xs = [county[\"lons\"] for county in counties.values()]\n",
    "county_ys = [county[\"lats\"] for county in counties.values()]\n",
    "\n",
    "county_names = [county['name'] for county in counties.values()]\n",
    "county_rates = [unemployment[county_id] for county_id in counties]\n",
    "color_mapper = LogColorMapper(palette=palette)\n",
    "\n",
    "data=dict(\n",
    "    x=county_xs,\n",
    "    y=county_ys,\n",
    "    name=county_names,\n",
    "    rate=county_rates,\n",
    ")\n",
    "\n",
    "# https://bokeh.pydata.org/en/latest/docs/user_guide/tools.html\n",
    "\n",
    "TOOLS = \"pan,wheel_zoom,reset,hover,save\"\n",
    "\n",
    "p = figure(\n",
    "    title=\"Ohio Unemployment, 2009\", tools=TOOLS,\n",
    "    x_axis_location=None, y_axis_location=None,\n",
    "    tooltips=[\n",
    "        (\"Name\", \"@name\"), (\"Unemployment rate\", \"@rate%\")\n",
    "    ])\n",
    "\n",
    "p.grid.grid_line_color = None\n",
    "p.hover.point_policy = \"follow_mouse\"\n",
    "\n",
    "p.patches('x', 'y', source=data,\n",
    "          fill_color={'field': 'rate', 'transform': color_mapper},\n",
    "          fill_alpha=0.7, line_color=\"white\", line_width=0.5)\n",
    "\n",
    "show(p)"
   ]
  },
  {
   "cell_type": "code",
   "execution_count": null,
   "metadata": {},
   "outputs": [],
   "source": [
    "## Map & Histogram & Options\n",
    "import numpy as np\n",
    "\n",
    "from bokeh.io import show, output_notebook, output_file\n",
    "from bokeh.models import LinearColorMapper \n",
    "from bokeh.plotting import figure\n",
    "from bokeh.layouts import layout, gridplot\n",
    "\n",
    "from bokeh.sampledata.us_states import data as states\n",
    "\n",
    "## Options\n",
    "from bokeh.models.widgets import RadioGroup\n",
    "\n",
    "# Set up radio button for \"Lite\", \"Classic\", and \"Deluxe\" forecast\n",
    "def options():\n",
    "    radio_button = RadioGroup(labels=[\"Lite\", \"Classic\", \"Deluxe\"], active=1)\n",
    "    return radio_button\n",
    "\n",
    "# Set up map for forecast\n",
    "\n",
    "def map_results(states):\n",
    "    # Dictionary Comprehension to Grab 48 States + DC\n",
    "    states = {state: values for state, values in states.items() if state != 'AK' and state != 'HI'}\n",
    "    \n",
    "    # Unpack state locations and state names.\n",
    "    state_longs = [state[\"lons\"] for state in states.values()]\n",
    "    state_lats = [state[\"lats\"] for state in states.values()]\n",
    "    state_names = [state['name'] for state in states.values()]\n",
    "\n",
    "    # Define colors for shading.\n",
    "    color_mapper = LinearColorMapper(palette=['#e62e24', '#f48186', '#e0e0e0', '#6ebbda', '#127ebe'])\n",
    "\n",
    "    # Create dictionary of data.\n",
    "    data = {'x':state_longs,\n",
    "            'y':state_lats,\n",
    "            'name':state_names,\n",
    "            'demrate': 100 * np.random.uniform(0, 1, 49)}\n",
    "    \n",
    "    # List of Bokeh tools.\n",
    "    TOOLS = \"pan,wheel_zoom,reset,hover,save\"\n",
    "    \n",
    "    # Create map.\n",
    "    p = figure(title=\"Senate Elections, 2018\",\n",
    "               tools=TOOLS,\n",
    "               x_axis_location=None,\n",
    "               y_axis_location=None,\n",
    "               tooltips=[(\"Name\", \"@name\"), (\"Probability of Democratic Win\", \"@demrate%\")],\n",
    "               plot_width=1200,\n",
    "               plot_height=800)\n",
    "    \n",
    "    # Add details to map.\n",
    "    p.background_fill_color=\"#fafafa\"\n",
    "    p.grid.grid_line_color = None\n",
    "    p.hover.point_policy = \"follow_mouse\"\n",
    "    p.patches('x',\n",
    "              'y',\n",
    "              source=data,\n",
    "              fill_color={'field': 'demrate',\n",
    "                          'transform': color_mapper},\n",
    "              fill_alpha=0.7,\n",
    "              line_color=\"white\",\n",
    "              line_width=1)\n",
    "    \n",
    "    return p\n",
    "\n",
    "# Make sure we get the same results!\n",
    "np.random.seed(42)\n",
    "\n",
    "# Simulate how many Senate seats are won by Democrats.\n",
    "simulations = np.random.poisson(50,1000)\n",
    "\n",
    "# Set up histogram for forecast\n",
    "def histogram(simulations):\n",
    "    # Generate dictionary for D and R Senate control.\n",
    "    hist_dict_dem = {i: list(simulations).count(i) for i in set(simulations) if i > 50}\n",
    "    hist_dict_rep = {i: list(simulations).count(i) for i in set(simulations) if i <= 50}\n",
    "    \n",
    "    # List of Bokeh tools.\n",
    "    TOOLS = \"pan,reset,hover,save\"\n",
    "    \n",
    "    # Generate figure.\n",
    "    p = figure(title=\"Forecasting the Race for Senate\",\n",
    "               tools=TOOLS,\n",
    "               background_fill_color=\"#fafafa\",\n",
    "               tooltips=[(\"Number of D Seats\", \"$x{0.}\")],\n",
    "               plot_width=600,\n",
    "               plot_height=800)\n",
    "    \n",
    "    # Generate side of histogram for Democrats controlling Senate.\n",
    "    p.vbar(x = list(hist_dict_dem.keys()),\n",
    "           width = 1,\n",
    "           top = list(hist_dict_dem.values()),\n",
    "           bottom = 0,\n",
    "           fill_color = '#127ebe',\n",
    "           line_color = 'white')\n",
    "    \n",
    "    # Generate side of histogram for Republicans controlling Senate.\n",
    "    p.vbar(x = list(hist_dict_rep.keys()),\n",
    "       width = 1,\n",
    "       top = list(hist_dict_rep.values()),\n",
    "       bottom = 0,\n",
    "       fill_color = '#e62e24',\n",
    "       line_color = 'white')\n",
    "    \n",
    "    # Add details to histogram.\n",
    "    p.y_range.start = 0\n",
    "    p.x_range.start = 40\n",
    "    p.x_range.end = 60\n",
    "    p.xaxis.axis_label = 'Number of Democratic Senate Seats'\n",
    "    p.yaxis.axis_label = 'Higher Probability ----->'\n",
    "    p.grid.grid_line_color=\"white\"\n",
    "    \n",
    "    return p\n",
    "\n",
    "# Generate interactive dashboard in a grid.\n",
    "g = gridplot(\n",
    "        children=[[options()],                                    # Row 1\n",
    "                  [histogram(simulations), map_results(states)]], # Row 2\n",
    "        toolbar_location='right',\n",
    "        sizing_mode='fixed',\n",
    "        toolbar_options=dict(logo='grey'))\n",
    "\n",
    "# Generate dashboard and open in notebook.\n",
    "output_notebook()\n",
    "show(g)"
   ]
  }
 ],
 "metadata": {
  "kernelspec": {
   "display_name": "Python 3",
   "language": "python",
   "name": "python3"
  },
  "language_info": {
   "codemirror_mode": {
    "name": "ipython",
    "version": 3
   },
   "file_extension": ".py",
   "mimetype": "text/x-python",
   "name": "python",
   "nbconvert_exporter": "python",
   "pygments_lexer": "ipython3",
   "version": "3.6.8"
  }
 },
 "nbformat": 4,
 "nbformat_minor": 2
}
